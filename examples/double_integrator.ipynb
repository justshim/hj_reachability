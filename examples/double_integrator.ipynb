{
 "cells": [
  {
   "cell_type": "markdown",
   "metadata": {},
   "source": [
    "# hj_reachability quickstart\n",
    "\n",
    "Notebook dependencies:\n",
    "- System: python3, ffmpeg (for rendering animations)\n",
    "- Python: jupyter, jax, numpy, matplotlib, plotly, tqdm, hj_reachability\n",
    "\n",
    "Example setup for a Ubuntu system (Mac users, maybe `brew` instead of `sudo apt`; Windows users, learn to love [WSL](https://docs.microsoft.com/en-us/windows/wsl/install-win10)):\n",
    "```\n",
    "sudo apt install ffmpeg\n",
    "/usr/bin/python3 -m pip install --upgrade pip\n",
    "pip install --upgrade jupyter jax[cpu] numpy matplotlib plotly tqdm hj-reachability\n",
    "jupyter notebook  # from the directory of this notebook\n",
    "```\n",
    "Alternatively, view this notebook on [Google Colab](https://colab.research.google.com/github/StanfordASL/hj_reachability/blob/main/examples/quickstart.ipynb) and run a cell containing this command:\n",
    "```\n",
    "!pip install --upgrade hj-reachability\n",
    "```"
   ]
  },
  {
   "cell_type": "code",
   "execution_count": 1,
   "metadata": {},
   "outputs": [
    {
     "ename": "RuntimeError",
     "evalue": "This version of jaxlib was built using AVX instructions, which your CPU and/or operating system do not support. You may be able work around this issue by building jaxlib from source.",
     "output_type": "error",
     "traceback": [
      "\u001B[0;31m---------------------------------------------------------------------------\u001B[0m",
      "\u001B[0;31mRuntimeError\u001B[0m                              Traceback (most recent call last)",
      "\u001B[0;32m/var/folders/t4/mtns5g7s0yg1jhdyrt7cnns40000gn/T/ipykernel_85850/226529409.py\u001B[0m in \u001B[0;36m<module>\u001B[0;34m\u001B[0m\n\u001B[0;32m----> 1\u001B[0;31m \u001B[0;32mimport\u001B[0m \u001B[0mjax\u001B[0m\u001B[0;34m\u001B[0m\u001B[0;34m\u001B[0m\u001B[0m\n\u001B[0m\u001B[1;32m      2\u001B[0m \u001B[0;32mimport\u001B[0m \u001B[0mjax\u001B[0m\u001B[0;34m.\u001B[0m\u001B[0mnumpy\u001B[0m \u001B[0;32mas\u001B[0m \u001B[0mjnp\u001B[0m\u001B[0;34m\u001B[0m\u001B[0;34m\u001B[0m\u001B[0m\n\u001B[1;32m      3\u001B[0m \u001B[0;32mimport\u001B[0m \u001B[0mnumpy\u001B[0m \u001B[0;32mas\u001B[0m \u001B[0mnp\u001B[0m\u001B[0;34m\u001B[0m\u001B[0;34m\u001B[0m\u001B[0m\n\u001B[1;32m      4\u001B[0m \u001B[0;34m\u001B[0m\u001B[0m\n\u001B[1;32m      5\u001B[0m \u001B[0;32mfrom\u001B[0m \u001B[0mIPython\u001B[0m\u001B[0;34m.\u001B[0m\u001B[0mdisplay\u001B[0m \u001B[0;32mimport\u001B[0m \u001B[0mHTML\u001B[0m\u001B[0;34m\u001B[0m\u001B[0;34m\u001B[0m\u001B[0m\n",
      "\u001B[0;32m~/src/sandbox/hj_reachability/venv/lib/python3.7/site-packages/jax/__init__.py\u001B[0m in \u001B[0;36m<module>\u001B[0;34m\u001B[0m\n\u001B[1;32m     33\u001B[0m \u001B[0;31m# We want the exported object to be the class, so we first import the module\u001B[0m\u001B[0;34m\u001B[0m\u001B[0;34m\u001B[0m\u001B[0;34m\u001B[0m\u001B[0m\n\u001B[1;32m     34\u001B[0m \u001B[0;31m# to make sure a later import doesn't overwrite the class.\u001B[0m\u001B[0;34m\u001B[0m\u001B[0;34m\u001B[0m\u001B[0;34m\u001B[0m\u001B[0m\n\u001B[0;32m---> 35\u001B[0;31m \u001B[0;32mfrom\u001B[0m \u001B[0mjax\u001B[0m \u001B[0;32mimport\u001B[0m \u001B[0mconfig\u001B[0m \u001B[0;32mas\u001B[0m \u001B[0m_config_module\u001B[0m\u001B[0;34m\u001B[0m\u001B[0;34m\u001B[0m\u001B[0m\n\u001B[0m\u001B[1;32m     36\u001B[0m \u001B[0;32mdel\u001B[0m \u001B[0m_config_module\u001B[0m\u001B[0;34m\u001B[0m\u001B[0;34m\u001B[0m\u001B[0m\n\u001B[1;32m     37\u001B[0m \u001B[0;34m\u001B[0m\u001B[0m\n",
      "\u001B[0;32m~/src/sandbox/hj_reachability/venv/lib/python3.7/site-packages/jax/config.py\u001B[0m in \u001B[0;36m<module>\u001B[0;34m\u001B[0m\n\u001B[1;32m     15\u001B[0m \u001B[0;31m# TODO(phawkins): fix users of this alias and delete this file.\u001B[0m\u001B[0;34m\u001B[0m\u001B[0;34m\u001B[0m\u001B[0;34m\u001B[0m\u001B[0m\n\u001B[1;32m     16\u001B[0m \u001B[0;34m\u001B[0m\u001B[0m\n\u001B[0;32m---> 17\u001B[0;31m \u001B[0;32mfrom\u001B[0m \u001B[0mjax\u001B[0m\u001B[0;34m.\u001B[0m\u001B[0m_src\u001B[0m\u001B[0;34m.\u001B[0m\u001B[0mconfig\u001B[0m \u001B[0;32mimport\u001B[0m \u001B[0mconfig\u001B[0m  \u001B[0;31m# noqa: F401\u001B[0m\u001B[0;34m\u001B[0m\u001B[0;34m\u001B[0m\u001B[0m\n\u001B[0m",
      "\u001B[0;32m~/src/sandbox/hj_reachability/venv/lib/python3.7/site-packages/jax/_src/config.py\u001B[0m in \u001B[0;36m<module>\u001B[0;34m\u001B[0m\n\u001B[1;32m     25\u001B[0m \u001B[0;32mfrom\u001B[0m \u001B[0mtyping\u001B[0m \u001B[0;32mimport\u001B[0m \u001B[0mAny\u001B[0m\u001B[0;34m,\u001B[0m \u001B[0mList\u001B[0m\u001B[0;34m,\u001B[0m \u001B[0mCallable\u001B[0m\u001B[0;34m,\u001B[0m \u001B[0mHashable\u001B[0m\u001B[0;34m,\u001B[0m \u001B[0mNamedTuple\u001B[0m\u001B[0;34m,\u001B[0m \u001B[0mIterator\u001B[0m\u001B[0;34m,\u001B[0m \u001B[0mOptional\u001B[0m\u001B[0;34m\u001B[0m\u001B[0;34m\u001B[0m\u001B[0m\n\u001B[1;32m     26\u001B[0m \u001B[0;34m\u001B[0m\u001B[0m\n\u001B[0;32m---> 27\u001B[0;31m \u001B[0;32mfrom\u001B[0m \u001B[0mjax\u001B[0m\u001B[0;34m.\u001B[0m\u001B[0m_src\u001B[0m \u001B[0;32mimport\u001B[0m \u001B[0mlib\u001B[0m\u001B[0;34m\u001B[0m\u001B[0;34m\u001B[0m\u001B[0m\n\u001B[0m\u001B[1;32m     28\u001B[0m \u001B[0;32mfrom\u001B[0m \u001B[0mjax\u001B[0m\u001B[0;34m.\u001B[0m\u001B[0m_src\u001B[0m\u001B[0;34m.\u001B[0m\u001B[0mlib\u001B[0m \u001B[0;32mimport\u001B[0m \u001B[0mjax_jit\u001B[0m\u001B[0;34m\u001B[0m\u001B[0;34m\u001B[0m\u001B[0m\n\u001B[1;32m     29\u001B[0m \u001B[0;32mfrom\u001B[0m \u001B[0mjax\u001B[0m\u001B[0;34m.\u001B[0m\u001B[0m_src\u001B[0m\u001B[0;34m.\u001B[0m\u001B[0mlib\u001B[0m \u001B[0;32mimport\u001B[0m \u001B[0mtransfer_guard_lib\u001B[0m\u001B[0;34m\u001B[0m\u001B[0;34m\u001B[0m\u001B[0m\n",
      "\u001B[0;32m~/src/sandbox/hj_reachability/venv/lib/python3.7/site-packages/jax/_src/lib/__init__.py\u001B[0m in \u001B[0;36m<module>\u001B[0;34m\u001B[0m\n\u001B[1;32m     83\u001B[0m \u001B[0;31m# uses instructions that are present on this machine.\u001B[0m\u001B[0;34m\u001B[0m\u001B[0;34m\u001B[0m\u001B[0;34m\u001B[0m\u001B[0m\n\u001B[1;32m     84\u001B[0m \u001B[0;32mimport\u001B[0m \u001B[0mjaxlib\u001B[0m\u001B[0;34m.\u001B[0m\u001B[0mcpu_feature_guard\u001B[0m \u001B[0;32mas\u001B[0m \u001B[0mcpu_feature_guard\u001B[0m\u001B[0;34m\u001B[0m\u001B[0;34m\u001B[0m\u001B[0m\n\u001B[0;32m---> 85\u001B[0;31m \u001B[0mcpu_feature_guard\u001B[0m\u001B[0;34m.\u001B[0m\u001B[0mcheck_cpu_features\u001B[0m\u001B[0;34m(\u001B[0m\u001B[0;34m)\u001B[0m\u001B[0;34m\u001B[0m\u001B[0;34m\u001B[0m\u001B[0m\n\u001B[0m\u001B[1;32m     86\u001B[0m \u001B[0;34m\u001B[0m\u001B[0m\n\u001B[1;32m     87\u001B[0m \u001B[0;32mimport\u001B[0m \u001B[0mjaxlib\u001B[0m\u001B[0;34m.\u001B[0m\u001B[0mxla_client\u001B[0m \u001B[0;32mas\u001B[0m \u001B[0mxla_client\u001B[0m\u001B[0;34m\u001B[0m\u001B[0;34m\u001B[0m\u001B[0m\n",
      "\u001B[0;31mRuntimeError\u001B[0m: This version of jaxlib was built using AVX instructions, which your CPU and/or operating system do not support. You may be able work around this issue by building jaxlib from source."
     ]
    }
   ],
   "source": [
    "import jax\n",
    "import jax.numpy as jnp\n",
    "import numpy as np\n",
    "\n",
    "from IPython.display import HTML\n",
    "import matplotlib.animation as anim\n",
    "import matplotlib.pyplot as plt\n",
    "import plotly.graph_objects as go\n",
    "\n",
    "import hj_reachability as hj"
   ]
  },
  {
   "cell_type": "markdown",
   "metadata": {},
   "source": [
    "## Example system: `Air3d`"
   ]
  },
  {
   "cell_type": "code",
   "execution_count": null,
   "metadata": {},
   "outputs": [],
   "source": [
    "dynamics = hj.systems.Air3d()\n",
    "grid = hj.Grid.from_lattice_parameters_and_boundary_conditions(hj.sets.Box(np.array([-6., -10., 0.]),\n",
    "                                                                           np.array([20., 10., 2 * np.pi])),\n",
    "                                                               (51, 40, 50),\n",
    "                                                               periodic_dims=2)\n",
    "values = jnp.linalg.norm(grid.states[..., :2], axis=-1) - 5\n",
    "\n",
    "solver_settings = hj.SolverSettings.with_accuracy(\"very_high\",\n",
    "                                                  hamiltonian_postprocessor=hj.solver.backwards_reachable_tube)"
   ]
  },
  {
   "cell_type": "markdown",
   "metadata": {},
   "source": [
    "### `hj.step`: propagate the HJ PDE from `(time, values)` to `target_time`."
   ]
  },
  {
   "cell_type": "code",
   "execution_count": null,
   "metadata": {},
   "outputs": [],
   "source": [
    "time = 0.\n",
    "target_time = -2.8\n",
    "target_values = hj.step(solver_settings, dynamics, grid, time, values, target_time)"
   ]
  },
  {
   "cell_type": "code",
   "execution_count": null,
   "metadata": {},
   "outputs": [],
   "source": [
    "plt.jet()\n",
    "plt.figure(figsize=(13, 8))\n",
    "plt.contourf(grid.coordinate_vectors[0], grid.coordinate_vectors[1], target_values[:, :, 30].T)\n",
    "plt.colorbar()\n",
    "plt.contour(grid.coordinate_vectors[0],\n",
    "            grid.coordinate_vectors[1],\n",
    "            target_values[:, :, 30].T,\n",
    "            levels=0,\n",
    "            colors=\"black\",\n",
    "            linewidths=3)"
   ]
  },
  {
   "cell_type": "code",
   "execution_count": null,
   "metadata": {},
   "outputs": [],
   "source": [
    "go.Figure(data=go.Isosurface(x=grid.states[..., 0].ravel(),\n",
    "                             y=grid.states[..., 1].ravel(),\n",
    "                             z=grid.states[..., 2].ravel(),\n",
    "                             value=target_values.ravel(),\n",
    "                             colorscale=\"jet\",\n",
    "                             isomin=0,\n",
    "                             surface_count=1,\n",
    "                             isomax=0))"
   ]
  },
  {
   "cell_type": "markdown",
   "metadata": {},
   "source": [
    "### `hj.solve`: solve for `all_values` at a range of `times` (basically just iterating `hj.step`)."
   ]
  },
  {
   "cell_type": "code",
   "execution_count": null,
   "metadata": {},
   "outputs": [],
   "source": [
    "times = np.linspace(0, -2.8, 57)\n",
    "initial_values = values\n",
    "all_values = hj.solve(solver_settings, dynamics, grid, times, initial_values)"
   ]
  },
  {
   "cell_type": "code",
   "execution_count": null,
   "metadata": {},
   "outputs": [],
   "source": [
    "vmin, vmax = all_values.min(), all_values.max()\n",
    "levels = np.linspace(round(vmin), round(vmax), round(vmax) - round(vmin) + 1)\n",
    "fig = plt.figure(figsize=(13, 8))\n",
    "\n",
    "\n",
    "def render_frame(i, colorbar=False):\n",
    "    plt.contourf(grid.coordinate_vectors[0],\n",
    "                 grid.coordinate_vectors[1],\n",
    "                 all_values[i, :, :, 30].T,\n",
    "                 vmin=vmin,\n",
    "                 vmax=vmax,\n",
    "                 levels=levels)\n",
    "    if colorbar:\n",
    "        plt.colorbar()\n",
    "    plt.contour(grid.coordinate_vectors[0],\n",
    "                grid.coordinate_vectors[1],\n",
    "                target_values[:, :, 30].T,\n",
    "                levels=0,\n",
    "                colors=\"black\",\n",
    "                linewidths=3)\n",
    "\n",
    "\n",
    "render_frame(0, True)\n",
    "animation = HTML(anim.FuncAnimation(fig, render_frame, all_values.shape[0], interval=50).to_html5_video())\n",
    "plt.close(); animation"
   ]
  },
  {
   "cell_type": "markdown",
   "metadata": {},
   "source": [
    "## Defining your own dynamics: `AccelerationCurvatureCar`"
   ]
  },
  {
   "cell_type": "code",
   "execution_count": null,
   "metadata": {},
   "outputs": [],
   "source": [
    "class AccelerationCurvatureCar(hj.ControlAndDisturbanceAffineDynamics):\n",
    "\n",
    "    def __init__(self,\n",
    "                 max_acceleration=1.,\n",
    "                 max_curvature=1.,\n",
    "                 max_position_disturbance=0.25,\n",
    "                 control_mode=\"min\",\n",
    "                 disturbance_mode=\"max\",\n",
    "                 control_space=None,\n",
    "                 disturbance_space=None):\n",
    "        if control_space is None:\n",
    "            control_space = hj.sets.Box(jnp.array([-max_acceleration, -max_curvature]),\n",
    "                                        jnp.array([max_acceleration, max_curvature]))\n",
    "        if disturbance_space is None:\n",
    "            disturbance_space = hj.sets.Ball(jnp.zeros(2), max_position_disturbance)\n",
    "        super().__init__(control_mode, disturbance_mode, control_space, disturbance_space)\n",
    "\n",
    "    def open_loop_dynamics(self, state, time):\n",
    "        _, _, v, q = state\n",
    "        return jnp.array([v * jnp.cos(q), v * jnp.sin(q), 0., 0.])\n",
    "\n",
    "    def control_jacobian(self, state, time):\n",
    "        v = state[2]\n",
    "        return jnp.array([\n",
    "            [0., 0.],\n",
    "            [0., 0.],\n",
    "            [1., 0.],\n",
    "            [0., v],\n",
    "        ])\n",
    "\n",
    "    def disturbance_jacobian(self, state, time):\n",
    "        return jnp.array([\n",
    "            [1., 0.],\n",
    "            [0., 1.],\n",
    "            [0., 0.],\n",
    "            [0., 0.],\n",
    "        ])"
   ]
  },
  {
   "cell_type": "code",
   "execution_count": null,
   "metadata": {},
   "outputs": [],
   "source": [
    "dynamics = AccelerationCurvatureCar()\n",
    "grid = hj.Grid.from_lattice_parameters_and_boundary_conditions(hj.sets.Box(lo=np.array([-5., -5., -1., -np.pi]),\n",
    "                                                                           hi=np.array([5., 5., 1., np.pi])),\n",
    "                                                               (40, 40, 50, 50),\n",
    "                                                               periodic_dims=3)\n",
    "values = jnp.linalg.norm(grid.states[..., :2], axis=-1) - 1\n",
    "\n",
    "solver_settings = hj.SolverSettings.with_accuracy(\"low\")"
   ]
  },
  {
   "cell_type": "code",
   "execution_count": null,
   "metadata": {},
   "outputs": [],
   "source": [
    "time = 0.\n",
    "target_time = -2.0\n",
    "target_values = hj.step(solver_settings, dynamics, grid, time, values, target_time)"
   ]
  },
  {
   "cell_type": "code",
   "execution_count": null,
   "metadata": {},
   "outputs": [],
   "source": [
    "go.Figure(data=go.Isosurface(x=grid.states[:, :, -1, :, 0].ravel(),\n",
    "                             y=grid.states[:, :, -1, :, 1].ravel(),\n",
    "                             z=grid.states[:, :, -1, :, 3].ravel(),\n",
    "                             value=target_values[:, :, -1, :].ravel(),\n",
    "                             colorscale='jet',\n",
    "                             isomin=0,\n",
    "                             surface_count=1,\n",
    "                             isomax=0))"
   ]
  },
  {
   "cell_type": "code",
   "execution_count": null,
   "metadata": {},
   "outputs": [],
   "source": []
  },
  {
   "cell_type": "markdown",
   "source": [
    "# Double Integrator"
   ],
   "metadata": {
    "collapsed": false
   }
  },
  {
   "cell_type": "code",
   "execution_count": null,
   "outputs": [],
   "source": [
    "class DoubleIntegrator(hj.ControlAndDisturbanceAffineDynamics):\n",
    "\n",
    "    def __init__(self,\n",
    "                 max_acceleration=1.,\n",
    "                 max_curvature=1.,\n",
    "                 max_position_disturbance=0.25,\n",
    "                 control_mode=\"min\",\n",
    "                 disturbance_mode=\"max\",\n",
    "                 control_space=None,\n",
    "                 disturbance_space=None):\n",
    "        if control_space is None:\n",
    "            control_space = hj.sets.Box(jnp.array([-max_acceleration, -max_curvature]),\n",
    "                                        jnp.array([max_acceleration, max_curvature]))\n",
    "        if disturbance_space is None:\n",
    "            disturbance_space = hj.sets.Ball(jnp.zeros(2), max_position_disturbance)\n",
    "        super().__init__(control_mode, disturbance_mode, control_space, disturbance_space)\n",
    "\n",
    "    def open_loop_dynamics(self, state, time):\n",
    "        _, _, v, q = state\n",
    "        return jnp.array([v * jnp.cos(q), v * jnp.sin(q), 0., 0.])\n",
    "\n",
    "    def control_jacobian(self, state, time):\n",
    "        v = state[2]\n",
    "        return jnp.array([\n",
    "            [0., 0.],\n",
    "            [0., 0.],\n",
    "            [1., 0.],\n",
    "            [0., v],\n",
    "        ])\n",
    "\n",
    "    def disturbance_jacobian(self, state, time):\n",
    "        return jnp.array([\n",
    "            [1., 0.],\n",
    "            [0., 1.],\n",
    "            [0., 0.],\n",
    "            [0., 0.],\n",
    "        ])"
   ],
   "metadata": {
    "collapsed": false,
    "pycharm": {
     "name": "#%%\n"
    }
   }
  },
  {
   "cell_type": "markdown",
   "source": [],
   "metadata": {
    "collapsed": false
   }
  }
 ],
 "metadata": {
  "kernelspec": {
   "display_name": "Python 3",
   "language": "python",
   "name": "python3"
  },
  "language_info": {
   "codemirror_mode": {
    "name": "ipython",
    "version": 3
   },
   "file_extension": ".py",
   "mimetype": "text/x-python",
   "name": "python",
   "nbconvert_exporter": "python",
   "pygments_lexer": "ipython3",
   "version": "3.8.10"
  }
 },
 "nbformat": 4,
 "nbformat_minor": 4
}
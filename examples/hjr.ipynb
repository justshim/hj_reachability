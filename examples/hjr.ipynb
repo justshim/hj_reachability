{
 "cells": [
  {
   "cell_type": "code",
   "execution_count": null,
   "metadata": {
    "collapsed": true
   },
   "outputs": [],
   "source": [
    "!pip install --upgrade hj-reachability"
   ]
  },
  {
   "cell_type": "code",
   "execution_count": null,
   "outputs": [],
   "source": [
    "import jax\n",
    "import jax.numpy as jnp\n",
    "import numpy as np\n",
    "\n",
    "from IPython.display import HTML\n",
    "import matplotlib.animation as anim\n",
    "import matplotlib.pyplot as plt\n",
    "import plotly.graph_objects as go\n",
    "\n",
    "import hj_reachability as hj"
   ],
   "metadata": {
    "collapsed": false,
    "pycharm": {
     "name": "#%%\n"
    }
   }
  },
  {
   "cell_type": "markdown",
   "source": [
    "# Double Integrator"
   ],
   "metadata": {
    "collapsed": false
   }
  },
  {
   "cell_type": "markdown",
   "source": [
    "## Define dynamics class"
   ],
   "metadata": {
    "collapsed": false
   }
  },
  {
   "cell_type": "code",
   "execution_count": null,
   "outputs": [],
   "source": [
    " class DoubleIntegrator(hj.ControlAndDisturbanceAffineDynamics):\n",
    "    def __init__(self,\n",
    "                 max_acceleration=1.,\n",
    "                 max_position_disturbance=0,\n",
    "                 control_mode=\"min\",\n",
    "                 disturbance_mode=\"max\",\n",
    "                 control_space=None,\n",
    "                 disturbance_space=None):\n",
    "        if control_space is None:\n",
    "            control_space = hj.sets.Box(lo=jnp.array([-max_acceleration]), hi=jnp.array([max_acceleration]))\n",
    "        if disturbance_space is None:\n",
    "            disturbance_space = hj.sets.Ball(jnp.zeros(1), max_position_disturbance)\n",
    "        super().__init__(control_mode, disturbance_mode, control_space, disturbance_space)\n",
    "\n",
    "    def open_loop_dynamics(self, state, time):\n",
    "        _, v = state\n",
    "        return jnp.array([v, 0.])\n",
    "\n",
    "    def control_jacobian(self, state, time):\n",
    "        return jnp.array([\n",
    "            [0.],\n",
    "            [1.]\n",
    "        ])\n",
    "\n",
    "    def disturbance_jacobian(self, state, time):\n",
    "        return jnp.array([\n",
    "            [1.],\n",
    "            [0.]\n",
    "        ])"
   ],
   "metadata": {
    "collapsed": false,
    "pycharm": {
     "name": "#%%\n"
    }
   }
  },
  {
   "cell_type": "markdown",
   "source": [
    "## Initialize solver"
   ],
   "metadata": {
    "collapsed": false,
    "pycharm": {
     "name": "#%% md\n"
    }
   }
  },
  {
   "cell_type": "code",
   "execution_count": null,
   "outputs": [],
   "source": [
    "dynamics = DoubleIntegrator()\n",
    "limits = np.array([5., 3., 1.])\n",
    "grid_domain = hj.sets.Box(lo=jnp.array([-5., -3.]), hi=jnp.array([5., 3.]))\n",
    "grid_shape = (100, 100)\n",
    "\n",
    "grid = hj.Grid.from_lattice_parameters_and_boundary_conditions(domain=grid_domain, shape=grid_shape)\n",
    "values = jnp.linalg.norm(grid.states[..., :2], axis=-1) - 1 # TODO: Understand what this is?\n",
    "values = (grid.states[..., 0] - 5)**2 + (grid.states[..., 1] - 3)**2\n",
    "solver_settings = hj.SolverSettings.with_accuracy(\"very_high\",\n",
    "                                                  hamiltonian_postprocessor=hj.solver.backwards_reachable_tube)"
   ],
   "metadata": {
    "collapsed": false,
    "pycharm": {
     "name": "#%%\n"
    }
   }
  },
  {
   "cell_type": "markdown",
   "source": [
    "## Solve"
   ],
   "metadata": {
    "collapsed": false,
    "pycharm": {
     "name": "#%% md\n"
    }
   }
  },
  {
   "cell_type": "code",
   "execution_count": null,
   "outputs": [],
   "source": [
    "time = 0.\n",
    "target_time = -2.0\n",
    "target_values = hj.step(solver_settings, dynamics, grid, time, values, target_time)"
   ],
   "metadata": {
    "collapsed": false,
    "pycharm": {
     "name": "#%%\n"
    }
   }
  },
  {
   "cell_type": "markdown",
   "source": [
    "## Plot Results"
   ],
   "metadata": {
    "collapsed": false,
    "pycharm": {
     "name": "#%% md\n"
    }
   }
  },
  {
   "cell_type": "code",
   "execution_count": null,
   "outputs": [],
   "source": [
    "plt.contourf(grid.coordinate_vectors[0], grid.coordinate_vectors[1], target_values)\n",
    "\n",
    "# plt.jet()# plt.figure(figsize=(13, 8))# plt.contourf(grid.coordinate_vectors[0], grid.coordinate_vectors[1], target_values)# plt.colorbar()# plt.contour(grid.coordinate_vectors[0],#             grid.coordinate_vectors[1],#             target_values,#             levels=0,#             colors=\"black\",#             linewidths=3)"
   ],
   "metadata": {
    "collapsed": false,
    "pycharm": {
     "name": "#%%\n"
    }
   }
  },
  {
   "cell_type": "markdown",
   "source": [
    "## TODO: Animation"
   ],
   "metadata": {
    "collapsed": false
   }
  },
  {
   "cell_type": "code",
   "execution_count": null,
   "outputs": [],
   "source": [
    "times = np.linspace(0, -2.8, 57)\n",
    "initial_values = values\n",
    "all_values = hj.solve(solver_settings, dynamics, grid, times, initial_values)"
   ],
   "metadata": {
    "collapsed": false,
    "pycharm": {
     "name": "#%%\n"
    }
   }
  },
  {
   "cell_type": "code",
   "execution_count": null,
   "outputs": [],
   "source": [
    "vmin, vmax = all_values.min(), all_values.max()\n",
    "levels = np.linspace(round(vmin), round(vmax), round(vmax) - round(vmin) + 1)\n",
    "fig = plt.figure(figsize=(13, 8))\n",
    "\n",
    "\n",
    "def render_frame(i, colorbar=False):\n",
    "    plt.contourf(grid.coordinate_vectors[0],\n",
    "                 grid.coordinate_vectors[1],\n",
    "                 all_values[i, :, :, 30].T,\n",
    "                 vmin=vmin,\n",
    "                 vmax=vmax,\n",
    "                 levels=levels)\n",
    "    if colorbar:\n",
    "        plt.colorbar()\n",
    "    plt.contour(grid.coordinate_vectors[0],\n",
    "                grid.coordinate_vectors[1],\n",
    "                target_values[:, :, 30].T,\n",
    "                levels=0,\n",
    "                colors=\"black\",\n",
    "                linewidths=3)\n",
    "\n",
    "\n",
    "render_frame(0, True)\n",
    "animation = HTML(anim.FuncAnimation(fig, render_frame, all_values.shape[0], interval=50).to_html5_video())\n",
    "plt.close(); animation"
   ],
   "metadata": {
    "collapsed": false,
    "pycharm": {
     "name": "#%%\n"
    }
   }
  }
 ],
 "metadata": {
  "kernelspec": {
   "display_name": "Python 3",
   "language": "python",
   "name": "python3"
  },
  "language_info": {
   "codemirror_mode": {
    "name": "ipython",
    "version": 2
   },
   "file_extension": ".py",
   "mimetype": "text/x-python",
   "name": "python",
   "nbconvert_exporter": "python",
   "pygments_lexer": "ipython2",
   "version": "2.7.6"
  }
 },
 "nbformat": 4,
 "nbformat_minor": 0
}